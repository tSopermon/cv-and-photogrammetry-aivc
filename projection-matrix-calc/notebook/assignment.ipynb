{
 "cells": [
  {
   "cell_type": "code",
   "execution_count": 13,
   "id": "19ec6e49",
   "metadata": {},
   "outputs": [
    {
     "name": "stdout",
     "output_type": "stream",
     "text": [
      "Requirement already satisfied: numpy in ./.venv/lib/python3.12/site-packages (2.2.5)\n",
      "Requirement already satisfied: pandas in ./.venv/lib/python3.12/site-packages (2.2.3)\n",
      "Requirement already satisfied: matplotlib in ./.venv/lib/python3.12/site-packages (3.10.3)\n",
      "Requirement already satisfied: seaborn in ./.venv/lib/python3.12/site-packages (0.13.2)\n",
      "Requirement already satisfied: opencv-python in ./.venv/lib/python3.12/site-packages (4.11.0.86)\n",
      "Requirement already satisfied: python-dateutil>=2.8.2 in ./.venv/lib/python3.12/site-packages (from pandas) (2.9.0.post0)\n",
      "Requirement already satisfied: pytz>=2020.1 in ./.venv/lib/python3.12/site-packages (from pandas) (2025.2)\n",
      "Requirement already satisfied: tzdata>=2022.7 in ./.venv/lib/python3.12/site-packages (from pandas) (2025.2)\n",
      "Requirement already satisfied: contourpy>=1.0.1 in ./.venv/lib/python3.12/site-packages (from matplotlib) (1.3.2)\n",
      "Requirement already satisfied: cycler>=0.10 in ./.venv/lib/python3.12/site-packages (from matplotlib) (0.12.1)\n",
      "Requirement already satisfied: fonttools>=4.22.0 in ./.venv/lib/python3.12/site-packages (from matplotlib) (4.57.0)\n",
      "Requirement already satisfied: kiwisolver>=1.3.1 in ./.venv/lib/python3.12/site-packages (from matplotlib) (1.4.8)\n",
      "Requirement already satisfied: packaging>=20.0 in ./.venv/lib/python3.12/site-packages (from matplotlib) (25.0)\n",
      "Requirement already satisfied: pillow>=8 in ./.venv/lib/python3.12/site-packages (from matplotlib) (11.2.1)\n",
      "Requirement already satisfied: pyparsing>=2.3.1 in ./.venv/lib/python3.12/site-packages (from matplotlib) (3.2.3)\n",
      "Requirement already satisfied: six>=1.5 in ./.venv/lib/python3.12/site-packages (from python-dateutil>=2.8.2->pandas) (1.17.0)\n",
      "Note: you may need to restart the kernel to use updated packages.\n"
     ]
    }
   ],
   "source": [
    "%pip install numpy pandas matplotlib seaborn opencv-python"
   ]
  },
  {
   "cell_type": "code",
   "execution_count": 14,
   "id": "fed2b8d8",
   "metadata": {},
   "outputs": [],
   "source": [
    "import numpy as np\n",
    "import cv2 as cv\n",
    "import matplotlib.pyplot as plt "
   ]
  },
  {
   "cell_type": "markdown",
   "id": "f86b1d07",
   "metadata": {},
   "source": [
    "# OpenCV Implementations for Space Resection"
   ]
  },
  {
   "cell_type": "code",
   "execution_count": null,
   "id": "a76be70a",
   "metadata": {},
   "outputs": [],
   "source": [
    "def get_rotation_matrix_from_euler(roll, pitch, yaw):\n",
    "    \"\"\"\n",
    "    by inserting roll, pitch and yaw angles in degrees, this function returns the rotation matrix\n",
    "    \n",
    "    :param roll: rotation around x-axis in degrees\n",
    "    :param pitch: rotation around y-axis in degrees\n",
    "    :param yaw: rotation around z-axis in degrees\n",
    "    :return: rotation matrix\n",
    "    \"\"\"\n",
    "    roll = np.radians(roll)\n",
    "    pitch = np.radians(pitch)\n",
    "    yaw = np.radians(yaw)\n",
    "    # Rotation matrix for roll (rotation around x-axis)\n",
    "    R_x = np.array([\n",
    "        [1, 0, 0],\n",
    "        [0, np.cos(roll), -np.sin(roll)],\n",
    "        [0, np.sin(roll), np.cos(roll)]\n",
    "    ])\n",
    "    # Rotation matrix for pitch (rotation around y-axis)\n",
    "    R_y = np.array([\n",
    "        [np.cos(pitch), 0, np.sin(pitch)],\n",
    "        [0, 1, 0],\n",
    "        [-np.sin(pitch), 0, np.cos(pitch)]\n",
    "    ])\n",
    "    # Rotation matrix for yaw (rotation around z-axis)\n",
    "    R_z = np.array([\n",
    "        [np.cos(yaw), -np.sin(yaw), 0],\n",
    "        [np.sin(yaw), np.cos(yaw), 0],\n",
    "        [0, 0, 1]\n",
    "    ])\n",
    "    # Combined rotation matrix: R = R_z * R_y * R_x\n",
    "    R = R_z @ R_y @ R_x\n",
    "    return R"
   ]
  },
  {
   "cell_type": "code",
   "execution_count": 16,
   "id": "7dc9468e",
   "metadata": {},
   "outputs": [],
   "source": [
    "def get_euler_from_rotation_matrix(R):\n",
    "    \"\"\"\n",
    "    by inserting a rotation matrix, this function returns the roll, pitch and yaw angles in degrees\n",
    "    :param R: rotation matrix\n",
    "    :return: roll, pitch and yaw angles in degrees\n",
    "    \"\"\"\n",
    "    # Ensure R is a 3x3 matrix\n",
    "    assert R.shape == (3, 3), \"Input must be a 3x3 rotation matrix\"\n",
    " \n",
    "    # Extract Euler angles from rotation matrix\n",
    "    pitch = np.arctan2(-R[2, 0], np.sqrt(R[0, 0]**2 + R[1, 0]**2))\n",
    "    roll = np.arctan2(R[2, 1], R[2, 2])\n",
    "    yaw = np.arctan2(R[1, 0], R[0, 0])\n",
    " \n",
    "    # Convert radians to degrees\n",
    "    roll = np.degrees(roll)\n",
    "    pitch = np.degrees(pitch)\n",
    "    yaw = np.degrees(yaw)\n",
    " \n",
    "    return roll, pitch, yaw"
   ]
  },
  {
   "cell_type": "code",
   "execution_count": 17,
   "id": "20b51220",
   "metadata": {},
   "outputs": [
    {
     "name": "stdout",
     "output_type": "stream",
     "text": [
      "[[-2.0824  1.1231  9.9714]\n",
      " [-1.9727 -0.2535  9.9443]\n",
      " [-2.0104  3.156   9.5477]\n",
      " [-0.8683 -0.0179 10.8793]\n",
      " [-0.8551  1.3556 10.0008]\n",
      " [-0.8872  1.2829 10.9052]\n",
      " [-1.0292  2.5402 10.9755]\n",
      " [-0.9203  3.1915 10.9795]\n",
      " [-0.0216  4.1537 10.9914]\n",
      " [ 0.      2.0417 10.0002]\n",
      " [ 1.0255  3.1893 10.9647]\n",
      " [ 1.0422  2.537  10.9544]\n",
      " [ 0.9469  1.3068 10.8738]\n",
      " [ 0.9403 -0.1906 10.8603]\n",
      " [ 1.5626  2.4429  9.9858]\n",
      " [ 2.5371  3.1341  9.9612]\n",
      " [ 2.4938  1.4519  9.9527]\n",
      " [ 2.5663 -0.1119  9.9444]]\n",
      "\n",
      " (18, 3)\n"
     ]
    }
   ],
   "source": [
    "with open('object_points_m.txt', 'r') as f:\n",
    "    object_points_m = np.loadtxt(f, delimiter=',', unpack=True)\n",
    "\n",
    "print(object_points_m)\n",
    "print('\\n',object_points_m.shape)"
   ]
  },
  {
   "cell_type": "code",
   "execution_count": 18,
   "id": "55807c13",
   "metadata": {},
   "outputs": [
    {
     "name": "stdout",
     "output_type": "stream",
     "text": [
      "[[-8.59129087e+02 -2.28735207e+02]\n",
      " [-8.30451510e+02 -6.52666689e+02]\n",
      " [-7.67814818e+02  3.74031091e+02]\n",
      " [-6.39067914e+02 -6.73745711e+02]\n",
      " [-5.05946118e+02 -1.66201107e+02]\n",
      " [-6.42685565e+02 -2.08626937e+02]\n",
      " [-6.96091525e+02  2.44846514e+02]\n",
      " [-6.57529889e+02  4.80937614e+02]\n",
      " [-3.43323311e+02  8.49787497e+02]\n",
      " [-2.40733057e+02  5.11048216e+01]\n",
      " [ 3.85555442e+01  5.03652476e+02]\n",
      " [ 4.39228801e+01  2.53791262e+02]\n",
      " [ 8.07783500e+00 -2.14454024e+02]\n",
      " [-3.32591559e-01 -7.78479624e+02]\n",
      " [ 2.72722123e+02  1.86508018e+02]\n",
      " [ 6.14640710e+02  4.27180900e+02]\n",
      " [ 5.93843602e+02 -1.54068146e+02]\n",
      " [ 6.14277410e+02 -6.97652945e+02]]\n",
      "\n",
      " (18, 2)\n"
     ]
    }
   ],
   "source": [
    "with open('image_points_pix.txt', 'r') as f:\n",
    "    image_points_pix = np.loadtxt(f, delimiter=',', unpack=True)\n",
    "print(image_points_pix)\n",
    "print('\\n',image_points_pix.shape)"
   ]
  },
  {
   "cell_type": "code",
   "execution_count": 30,
   "id": "435a0b84",
   "metadata": {},
   "outputs": [],
   "source": [
    "# assuming K camera intrinsic matrix and R rotation matrix\n",
    "K = np.array([\n",
    "    [800, 0, 320],\n",
    "    [0, 800, 240],\n",
    "    [0,   0,   1]\n",
    "], dtype=np.float32)\n",
    "\n",
    "roll = 0  # Rotation around x-axis (in degrees)\n",
    "pitch = 10  # Rotation around y-axis (in degrees)\n",
    "yaw = 5  # Rotation around z-axis (in degrees)"
   ]
  },
  {
   "cell_type": "code",
   "execution_count": 43,
   "id": "4e8ccc0a",
   "metadata": {},
   "outputs": [
    {
     "name": "stdout",
     "output_type": "stream",
     "text": [
      "Rotation matrix:\n",
      "[[ 0.98106026 -0.08715574  0.17298739]\n",
      " [ 0.08583165  0.9961947   0.01513444]\n",
      " [-0.17364818  0.          0.98480775]]\n",
      "\n",
      "Extrinsic matrix:\n",
      "[[ 0.98106026 -0.08715574  0.17298739  0.        ]\n",
      " [ 0.08583165  0.9961947   0.01513444  0.        ]\n",
      " [-0.17364818  0.          0.98480775 -1.        ]]\n"
     ]
    }
   ],
   "source": [
    "R_custom = get_rotation_matrix_from_euler(roll, pitch, yaw)\n",
    "print(f\"Rotation matrix:\\n{R_custom}\\n\")\n",
    "t_custom = np.array([[0], [0], [-1]], dtype=np.float32)  # Translation\n",
    "# Combine rotation and translation (Extrinsic matrix)\n",
    "RT_custom = np.hstack((R_custom, t_custom))\n",
    "print(f\"Extrinsic matrix:\\n{RT_custom}\")"
   ]
  },
  {
   "cell_type": "code",
   "execution_count": 37,
   "id": "1251ce14",
   "metadata": {},
   "outputs": [
    {
     "name": "stdout",
     "output_type": "stream",
     "text": [
      "Projection matrix:\n",
      "[[-7.29280793e+02  6.97245942e+01 -4.53528396e+02  3.20000000e+02]\n",
      " [-2.69897583e+01 -7.96955758e+02 -2.48461409e+02  2.40000000e+02]\n",
      " [ 1.73648178e-01 -0.00000000e+00 -9.84807753e-01  1.00000000e+00]]\n"
     ]
    }
   ],
   "source": [
    "# Finding projection matrix by multiplying intrinsic and extrinsic matrices\n",
    "P_custom = K @ RT_custom\n",
    "P_custom = P_custom / P_custom[2, 3]  # normalization\n",
    "print(f\"Projection matrix:\\n{P_custom}\")"
   ]
  },
  {
   "cell_type": "code",
   "execution_count": 39,
   "id": "3380efca",
   "metadata": {},
   "outputs": [
    {
     "name": "stdout",
     "output_type": "stream",
     "text": [
      "Roll: 0.0\n",
      "Pitch: 10.0\n",
      "Yaw: 5.0\n"
     ]
    }
   ],
   "source": [
    "# finding euler angles from rotation matrix\n",
    "r, p, y = get_euler_from_rotation_matrix(R_custom)\n",
    "print(\"Roll:\", r)\n",
    "print(\"Pitch:\", p)\n",
    "print(\"Yaw:\", y)"
   ]
  },
  {
   "cell_type": "code",
   "execution_count": null,
   "id": "a328b6f3",
   "metadata": {},
   "outputs": [
    {
     "name": "stdout",
     "output_type": "stream",
     "text": [
      "Rotation Vector:\n",
      " [[ 2.88947373]\n",
      " [-4.54445868]\n",
      " [ 3.19036203]]\n",
      "\n",
      "Translation Vector:\n",
      " [[-2.17427822]\n",
      " [-2.81952588]\n",
      " [-7.44999422]]\n"
     ]
    }
   ],
   "source": [
    "[success, rvec, tvec] = cv.solvePnP(object_points_m, image_points_pix, K, None)\n",
    "\"\"\"\n",
    "cv2.solvePnP() (Perspective n-point) algorithm estimates the pose or position in the space using a set of object points, \n",
    "their corresponding image projections, the camera intrinsic matrix and the distortion coefficients.\n",
    "\n",
    "In this case, we don't use distortion coefficients.\n",
    "\n",
    "The function returns the rotation vector (rvec) and the translation vector (tvec)\n",
    "\n",
    "Using Rodrigues() algorithm, we can convert the rotation vector to a rotation matrix.\n",
    "\"\"\"\n",
    "print(\"Rotation Vector:\\n\", rvec)\n",
    "print(\"\\nTranslation Vector:\\n\", tvec)"
   ]
  },
  {
   "cell_type": "code",
   "execution_count": 44,
   "id": "346b94da",
   "metadata": {},
   "outputs": [
    {
     "name": "stdout",
     "output_type": "stream",
     "text": [
      "Rotation Matrix with Rodrigues method:\n",
      " [[ 0.99977665  0.01204795  0.01736379]\n",
      " [-0.01223821  0.99986578  0.01089281]\n",
      " [-0.01723023 -0.01110288  0.9997899 ]]\n"
     ]
    }
   ],
   "source": [
    "R_est, _ = cv.Rodrigues(rvec)\n",
    "print(\"Rotation Matrix with Rodrigues method:\\n\", R_est)"
   ]
  },
  {
   "cell_type": "markdown",
   "id": "3cd4b3ec",
   "metadata": {},
   "source": [
    "# Manual implementation"
   ]
  },
  {
   "cell_type": "code",
   "execution_count": 46,
   "id": "aee74234",
   "metadata": {},
   "outputs": [
    {
     "name": "stdout",
     "output_type": "stream",
     "text": [
      "(18, 4)\n",
      "(18, 3)\n"
     ]
    }
   ],
   "source": [
    "hom_object_points_m = np.hstack((object_points_m, np.ones(shape=(object_points_m.shape[0], 1))))\n",
    "hom_image_points_pix = np.hstack((image_points_pix, np.ones(shape=(image_points_pix.shape[0], 1))))\n",
    "print(hom_object_points_m.shape)\n",
    "print(hom_image_points_pix.shape)"
   ]
  },
  {
   "cell_type": "code",
   "execution_count": 47,
   "id": "7e0ec9f1",
   "metadata": {},
   "outputs": [
    {
     "name": "stdout",
     "output_type": "stream",
     "text": [
      "(36, 12)\n"
     ]
    }
   ],
   "source": [
    "# https://cseweb.ucsd.edu/classes/wi07/cse252a/homography_estimation/homography_estimation.pdf\n",
    "\n",
    "A = np.zeros(shape=(2*object_points_m.shape[0], 12))\n",
    "\n",
    "for i in range(object_points_m.shape[0]):\n",
    "    x, y = image_points_pix[i, 0], image_points_pix[i, 1]\n",
    "    X, Y, Z = object_points_m[i, 0], object_points_m[i, 1], object_points_m[i, 2]\n",
    "\n",
    "    # coefficients of the collinearity condition equations\n",
    "    A[2*i] = [-X, -Y, -Z, -1, 0, 0, 0, 0, x*X, x*Y, x*Z, x]\n",
    "    A[2*i+1] = [0, 0, 0, 0, -X, -Y, -Z, -1, y*X, y*Y, y*Z, y]\n",
    "\n",
    "print(A.shape)"
   ]
  },
  {
   "cell_type": "code",
   "execution_count": 48,
   "id": "128663e7",
   "metadata": {},
   "outputs": [],
   "source": [
    "from scipy.linalg import svd\n",
    "\n",
    "U, S, Vh = svd(A)"
   ]
  },
  {
   "cell_type": "markdown",
   "id": "2c8ea63f",
   "metadata": {},
   "source": [
    "## Projection Matrix"
   ]
  },
  {
   "cell_type": "code",
   "execution_count": 49,
   "id": "257866b9",
   "metadata": {},
   "outputs": [
    {
     "name": "stdout",
     "output_type": "stream",
     "text": [
      "[[ 1.39840170e+02  1.58089836e+00 -2.63615643e+01  1.55108314e+02]\n",
      " [-9.12728974e-01  1.41950386e+02  2.14996981e+00 -2.88690618e+02]\n",
      " [-1.15080241e-02  3.62972440e-04 -5.63994371e-02  1.00000000e+00]]\n"
     ]
    }
   ],
   "source": [
    "# approximating projection matrix\n",
    "P_appr = Vh[-1, :]\n",
    "P_appr = P_appr.reshape(3, 4)\n",
    "P_appr = P_appr / P_appr[2, 3]  # normalization\n",
    "print(P_appr)"
   ]
  },
  {
   "cell_type": "markdown",
   "id": "289e5615",
   "metadata": {},
   "source": [
    "## Mean squared error of reprojection of image coordinates"
   ]
  },
  {
   "cell_type": "markdown",
   "id": "a4dbfc7c",
   "metadata": {},
   "source": [
    "### 2D projection of 3D points"
   ]
  },
  {
   "cell_type": "code",
   "execution_count": 50,
   "id": "47945202",
   "metadata": {},
   "outputs": [],
   "source": [
    "# Re-projection of 3D points to 2D points\n",
    "hom_object_points_pix = hom_object_points_m @ P_appr.T"
   ]
  },
  {
   "cell_type": "code",
   "execution_count": 51,
   "id": "3f79fdbb",
   "metadata": {},
   "outputs": [
    {
     "name": "stdout",
     "output_type": "stream",
     "text": [
      "[[-8.59716709e+02 -2.29284447e+02]\n",
      " [-8.30095698e+02 -6.52929122e+02]\n",
      " [-7.67254311e+02  3.73957138e+02]\n",
      " [-6.38594537e+02 -6.73686078e+02]\n",
      " [-5.06310089e+02 -1.65767266e+02]\n",
      " [-6.43047515e+02 -2.08091320e+02]\n",
      " [-6.96197878e+02  2.44894309e+02]\n",
      " [-6.57249176e+02  4.80978393e+02]\n",
      " [-3.43320727e+02  8.50024194e+02]\n",
      " [-2.41072453e+02  5.18153845e+01]\n",
      " [ 3.91146973e+01  5.03215768e+02]\n",
      " [ 4.33444708e+01  2.53399560e+02]\n",
      " [ 7.80893471e+00 -2.14391496e+02]\n",
      " [ 1.11795880e-02 -7.78701978e+02]\n",
      " [ 2.72195142e+02  1.86135133e+02]\n",
      " [ 6.15063309e+02  4.27412661e+02]\n",
      " [ 5.93830303e+02 -1.54618177e+02]\n",
      " [ 6.14436276e+02 -6.97166763e+02]]\n"
     ]
    }
   ],
   "source": [
    "hom_object_points_pix /= hom_object_points_pix[:, 2].reshape(-1, 1)\n",
    "hom_object_points_pix = hom_object_points_pix[:, :2]\n",
    "print(hom_object_points_pix)"
   ]
  },
  {
   "cell_type": "code",
   "execution_count": 52,
   "id": "1abcc3a8",
   "metadata": {},
   "outputs": [
    {
     "name": "stdout",
     "output_type": "stream",
     "text": [
      "[[ 0.58762208  0.54924015]\n",
      " [-0.35581227  0.26243325]\n",
      " [-0.56050628  0.07395377]\n",
      " [-0.47337644 -0.05963275]\n",
      " [ 0.36397179 -0.43384123]\n",
      " [ 0.36194998 -0.53561733]\n",
      " [ 0.10635283 -0.04779437]\n",
      " [-0.28071235 -0.04077907]\n",
      " [-0.00258417 -0.23669639]\n",
      " [ 0.33939525 -0.71056296]\n",
      " [-0.55915313  0.43670872]\n",
      " [ 0.57840927  0.39170199]\n",
      " [ 0.26890028 -0.06252757]\n",
      " [-0.34377115  0.22235376]\n",
      " [ 0.52698099  0.37288511]\n",
      " [-0.42259926 -0.23176097]\n",
      " [ 0.0132993   0.55003052]\n",
      " [-0.15886605 -0.48618146]]\n"
     ]
    }
   ],
   "source": [
    "# calculating the reprojection mean squared error\n",
    "v = image_points_pix - hom_object_points_pix\n",
    "print(v)"
   ]
  },
  {
   "cell_type": "code",
   "execution_count": 53,
   "id": "06a2548c",
   "metadata": {},
   "outputs": [
    {
     "name": "stdout",
     "output_type": "stream",
     "text": [
      "Reprojection Error: 0.46247376635448867\n"
     ]
    }
   ],
   "source": [
    "Vx = v[:, 0]\n",
    "Vy = v[:, 1]\n",
    "V_er = np.sum(Vx**2 + Vy**2)\n",
    "\n",
    "sigma_0 = np.sqrt(V_er / 25)\n",
    "print(\"Reprojection Error:\", sigma_0)"
   ]
  },
  {
   "cell_type": "markdown",
   "id": "6ad072a7",
   "metadata": {},
   "source": [
    "# Extracting Camera Matrix K and Rotation Matrix with Translation Vector, using Matlab function `decomposecamera(P)`"
   ]
  },
  {
   "cell_type": "code",
   "execution_count": 54,
   "id": "170f89b0",
   "metadata": {},
   "outputs": [
    {
     "name": "stdout",
     "output_type": "stream",
     "text": [
      "Current Projection Matrix:\n",
      " [[ 1.39840170e+02  1.58089836e+00 -2.63615643e+01  1.55108314e+02]\n",
      " [-9.12728974e-01  1.41950386e+02  2.14996981e+00 -2.88690618e+02]\n",
      " [-1.15080241e-02  3.62972440e-04 -5.63994371e-02  1.00000000e+00]]\n",
      "(3, 4)\n"
     ]
    }
   ],
   "source": [
    "print(\"Current Projection Matrix:\\n\", P_appr)\n",
    "print(P_appr.shape)"
   ]
  },
  {
   "cell_type": "code",
   "execution_count": null,
   "id": "3faae52f",
   "metadata": {},
   "outputs": [],
   "source": [
    "def rq3(A):\n",
    "    \"\"\"https://www.peterkovesi.com/matlabfns/Projective/rq3.m\"\"\"\n",
    "    if not np.all(np.array(A.shape) == [3, 3]):\n",
    "        raise ValueError('A must be 3x3')\n",
    "\n",
    "    eps = 1e-10\n",
    "\n",
    "    A[2, 2] += eps\n",
    "    c = -A[2, 2] / np.sqrt(A[2, 2]**2 + A[2, 1]**2)\n",
    "    s = A[2, 1] / np.sqrt(A[2, 2]**2 + A[2, 1]**2)\n",
    "    Qx = np.array([[1, 0, 0], [0, c, -s], [0, s, c]])\n",
    "    R = np.dot(A, Qx)\n",
    "\n",
    "    R[2, 2] += eps\n",
    "    c = R[2, 2] / np.sqrt(R[2, 2]**2 + R[2, 0]**2)\n",
    "    s = R[2, 0] / np.sqrt(R[2, 2]**2 + R[2, 0]**2)\n",
    "    Qy = np.array([[c, 0, s], [0, 1, 0], [-s, 0, c]])\n",
    "    R = np.dot(R, Qy)\n",
    "\n",
    "    R[1, 1] += eps\n",
    "    c = -R[1, 1] / np.sqrt(R[1, 1]**2 + R[1, 0]**2)\n",
    "    s = R[1, 0] / np.sqrt(R[1, 1]**2 + R[1, 0]**2)    \n",
    "    Qz = np.array([[c, -s, 0], [s, c, 0], [0, 0, 1]])\n",
    "    R = np.dot(R, Qz)\n",
    "\n",
    "    Q = Qz.T @ Qy.T @ Qx.T\n",
    "\n",
    "    # Adjust R and Q so that the diagonal elements of R are +ve\n",
    "    for n in range(3):\n",
    "        if R[n, n] < 0:\n",
    "            R[:, n] = -R[:, n]\n",
    "            Q[n, :] = -Q[n, :]\n",
    "\n",
    "    return R, Q"
   ]
  },
  {
   "cell_type": "code",
   "execution_count": null,
   "id": "668ceb7d",
   "metadata": {},
   "outputs": [],
   "source": [
    "def decomposecamera(P):\n",
    "    \"\"\"https://www.peterkovesi.com/matlabfns/Projective/decomposecamera.m\"\"\"\n",
    "    \n",
    "    p1 = P[:, 0]\n",
    "    p2 = P[:, 1]\n",
    "    p3 = P[:, 2]\n",
    "\n",
    "    M = np.array([p1, p2, p3])\n",
    "\n",
    "    # Perform RQ decomposition of M matrix\n",
    "    K, Rc_w = rq3(M)\n",
    "\n",
    "    # Check that R is right handed, if not give warning\n",
    "    if np.dot(np.cross(Rc_w[:, 0], Rc_w[:, 1]), Rc_w[:, 2]) < 0:\n",
    "        print('Warning: Note that rotation matrix is left handed')\n",
    "    \n",
    "    return K, Rc_w"
   ]
  },
  {
   "cell_type": "code",
   "execution_count": 57,
   "id": "11a90e2e",
   "metadata": {},
   "outputs": [
    {
     "name": "stdout",
     "output_type": "stream",
     "text": [
      "Warning: Note that rotation matrix is left handed\n",
      "\n",
      "Normalized Camera Matrix K:\n",
      " [[ 1.17382366e-02  3.95379238e-01 -5.27242820e+00]\n",
      " [ 2.06616859e-18  5.35401454e+00  3.76686727e-01]\n",
      " [-3.08842219e-19 -8.90077925e-18  1.00000000e+00]]\n",
      "\n",
      "Rotation Matrix R:\n",
      " [[ 2.13771911e-03 -2.12506989e-05 -9.99997715e-01]\n",
      " [ 8.12867695e-02  9.96690743e-01  1.52588254e-04]\n",
      " [-9.96688462e-01  8.12869100e-02 -2.13237225e-03]]\n"
     ]
    }
   ],
   "source": [
    "K, Rc_w = decomposecamera(P_appr)\n",
    "K /= K[2, 2]\n",
    "print(\"\\nNormalized Camera Matrix K:\\n\", K)\n",
    "print(\"\\nRotation Matrix R:\\n\", Rc_w)"
   ]
  },
  {
   "cell_type": "code",
   "execution_count": 58,
   "id": "ac386cbe",
   "metadata": {},
   "outputs": [
    {
     "name": "stdout",
     "output_type": "stream",
     "text": [
      "\n",
      "Roll: 91.50267634318419\n",
      "Pitch: 85.33585126608806\n",
      "Yaw: 88.49355487276647\n"
     ]
    }
   ],
   "source": [
    "r_, p_, y_ = get_euler_from_rotation_matrix(Rc_w)\n",
    "print(\"\\nRoll:\", r_)\n",
    "print(\"Pitch:\", p_)\n",
    "print(\"Yaw:\", y_)"
   ]
  },
  {
   "cell_type": "markdown",
   "id": "8f6fe3c0",
   "metadata": {},
   "source": [
    "# Translation Vector extraction"
   ]
  },
  {
   "cell_type": "code",
   "execution_count": 59,
   "id": "00e913a5",
   "metadata": {},
   "outputs": [
    {
     "name": "stdout",
     "output_type": "stream",
     "text": [
      "\n",
      "Normalized Projection Matrix:\n",
      " [[ 1.39840170e+02  1.58089836e+00 -2.63615643e+01  1.55108314e+02]\n",
      " [-9.12728974e-01  1.41950386e+02  2.14996981e+00 -2.88690618e+02]\n",
      " [-1.15080241e-02  3.62972440e-04 -5.63994371e-02  1.00000000e+00]]\n"
     ]
    }
   ],
   "source": [
    "# we can extract the translation vector directly from the projection matrix\n",
    "# as it is the last column of the projection matrix without the scale factor\n",
    "# but first we have to normalize the projection matrix\n",
    "\n",
    "P_appr_norm = P_appr / P_appr[2, 3]\n",
    "print(\"\\nNormalized Projection Matrix:\\n\", P_appr_norm)"
   ]
  },
  {
   "cell_type": "code",
   "execution_count": 60,
   "id": "e52610b6",
   "metadata": {},
   "outputs": [
    {
     "name": "stdout",
     "output_type": "stream",
     "text": [
      "\n",
      "Translation Vector:\n",
      " [ 155.10831372 -288.69061788]\n"
     ]
    }
   ],
   "source": [
    "T_appr = P_appr_norm[:2, 3]\n",
    "print(\"\\nTranslation Vector:\\n\", T_appr)"
   ]
  }
 ],
 "metadata": {
  "kernelspec": {
   "display_name": ".venv",
   "language": "python",
   "name": "python3"
  },
  "language_info": {
   "codemirror_mode": {
    "name": "ipython",
    "version": 3
   },
   "file_extension": ".py",
   "mimetype": "text/x-python",
   "name": "python",
   "nbconvert_exporter": "python",
   "pygments_lexer": "ipython3",
   "version": "3.12.3"
  }
 },
 "nbformat": 4,
 "nbformat_minor": 5
}
